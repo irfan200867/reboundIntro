{
  "nbformat": 4,
  "nbformat_minor": 0,
  "metadata": {
    "colab": {
      "provenance": []
    },
    "kernelspec": {
      "name": "python3",
      "display_name": "Python 3"
    },
    "language_info": {
      "name": "python"
    }
  },
  "cells": [
    {
      "cell_type": "code",
      "execution_count": null,
      "metadata": {
        "id": "XTXuknJ7tg3y"
      },
      "outputs": [],
      "source": [
        "!pip install -U rebound"
      ]
    },
    {
      "cell_type": "markdown",
      "source": [
        "## **CONTOH MASALAH DUA BENDA**\n",
        "\n",
        "**Akan diperiksa besaran-besaran kekal pada masalah dua benda**, yaitu nilai energi ($E$), momentum sudut ($L$), eksentrisitas ($e$), dan setengah sumbu panjang ($a$). Integrasi akan dicoba menggunakan metode *leapfrog*, sedangkan unit akan merujuk ke setelan baku bawaan (*default*)\n",
        "\n",
        "**Massa benda kedua akan dicoba dengan dua nilai yang berbeda**: $m_2 = 0$ dan $m_2 = 1 \\times 10^{-3}\\,M_{\\odot}$, sedangkan nilai $a = 1$ au, dan $e = 0,\\!3$\n",
        "\n",
        "Plot orbit akan coba diperlihatkan, sedangkan plot lain yang lebih lanjut bersifat opsional."
      ],
      "metadata": {
        "id": "Cipg8TXCSobP"
      }
    },
    {
      "cell_type": "code",
      "source": [
        "from math import sqrt\n",
        "import numpy as np\n",
        "import rebound"
      ],
      "metadata": {
        "id": "cSJuM4Q8t3Y0"
      },
      "execution_count": null,
      "outputs": []
    },
    {
      "cell_type": "code",
      "source": [
        "sim = rebound.Simulation()"
      ],
      "metadata": {
        "id": "RD8RM9eCt9-f"
      },
      "execution_count": null,
      "outputs": []
    },
    {
      "cell_type": "code",
      "source": [
        "# Integrator:\n",
        "# IAS15 (default), WHFast, SEI, LEAPFROG, JANUS, MERCURIUS,\n",
        "# WHCKL, WHCKM, WHCKC, SABA4, SABACL4, SABACM4, SABA(10,6,4),\n",
        "# EOS, BS, WHFast512, none\n",
        "\n",
        "sim.integrator = 'leapfrog'"
      ],
      "metadata": {
        "id": "5AOnxTMcuEGh"
      },
      "execution_count": null,
      "outputs": []
    },
    {
      "cell_type": "code",
      "source": [
        "# DEFAULT UNITS (RECOMMENDED for NEWBIE)\n",
        "sim.units = ('yr', 'au', 'msun')"
      ],
      "metadata": {
        "id": "ZMRJAScZzFit"
      },
      "execution_count": null,
      "outputs": []
    },
    {
      "cell_type": "code",
      "source": [
        "# use a fixed time step, in time unit defined above\n",
        "sim.dt = 1e-4"
      ],
      "metadata": {
        "id": "tJslBIqHuJb7"
      },
      "execution_count": null,
      "outputs": []
    },
    {
      "cell_type": "code",
      "source": [
        "# add particles, N = 2. Second body, say, with (in msun) m = 0, or m = 1e-3; a = 1, e = 0.3\n",
        "sim.add(m = 1.0)\n",
        "sim.add(m = 1e-3, a = 1.0, e = 0.3)\n",
        "\n",
        "sim.N_active = sim.N"
      ],
      "metadata": {
        "id": "_pJL3Sn2uSGG"
      },
      "execution_count": null,
      "outputs": []
    },
    {
      "cell_type": "code",
      "source": [
        "# do not forget to move to the center of mass\n",
        "sim.move_to_com()"
      ],
      "metadata": {
        "id": "ZHCjf2kKugF8"
      },
      "execution_count": null,
      "outputs": []
    },
    {
      "cell_type": "code",
      "source": [
        "# create time array, e.g. 1 orbit = 2 pi (radian), 250 times 'point' per orbit\n",
        "Norbits = 1\n",
        "Nsteps  = Norbits * 250\n",
        "times   = np.linspace(0, Norbits * 2 * np.pi, Nsteps)\n",
        "\n",
        "#for i, t in enumerate(times):\n",
        "#    print(f'{t:.9f}')"
      ],
      "metadata": {
        "id": "R5oeXM-Euwr9"
      },
      "execution_count": null,
      "outputs": []
    },
    {
      "cell_type": "code",
      "source": [
        "# coordinates for both particles\n",
        "x = np.zeros((sim.N, Nsteps))\n",
        "y = np.zeros_like(x)\n",
        "\n",
        "#print(x, y)"
      ],
      "metadata": {
        "id": "pEENXUFivW5U"
      },
      "execution_count": null,
      "outputs": []
    },
    {
      "cell_type": "code",
      "source": [
        "# energy & angular momentum of the system\n",
        "energy        = np.zeros(Nsteps)\n",
        "Lx, Ly, Lz, L = np.zeros(Nsteps), np.zeros(Nsteps), np.zeros(Nsteps), np.zeros(Nsteps)\n",
        "\n",
        "#print(energy)\n",
        "#print(Lx, Ly, Lz, L)"
      ],
      "metadata": {
        "id": "s8NpHC6MvjU3"
      },
      "execution_count": null,
      "outputs": []
    },
    {
      "cell_type": "code",
      "source": [
        "print('---------------------------------------------------------------')\n",
        "print('     t               E               L             e       a   ')\n",
        "print('---------------------------------------------------------------')\n",
        "\n",
        "# now integrate\n",
        "for i, t in enumerate(times):\n",
        "    sim.integrate(t, exact_finish_time = 0)\n",
        "\n",
        "    energy[i] = sim.energy()\n",
        "\n",
        "    Lx[i], Ly[i], Lz[i] = sim.angular_momentum()\n",
        "    L[i]                = sqrt(Lx[i]*Lx[i] + Ly[i]*Ly[i] + Lz[i]*Lz[i])\n",
        "\n",
        "    e = sim.particles[sim.N - 1].e\n",
        "    a = sim.particles[sim.N - 1].a\n",
        "\n",
        "    for j in range(sim.N):\n",
        "        x[j, i] = sim.particles[j].x\n",
        "        y[j, i] = sim.particles[j].y\n",
        "\n",
        "    #\n",
        "    print(f'{t:.9f}\\t{energy[i]:.9f}\\t{L[i]:.9f}\\t{e:.5f}\\t{a:.5f}')\n",
        "\n",
        "print('---------------------------------------------------------------')\n",
        "print('     t               E               L             e       a   ')\n",
        "print('---------------------------------------------------------------')"
      ],
      "metadata": {
        "id": "lj4nkcBltwCL"
      },
      "execution_count": null,
      "outputs": []
    },
    {
      "cell_type": "code",
      "source": [
        "print(f'Current number of particles        = {sim.N:d}')\n",
        "print(f'Current number of active particles = {sim.N_active:d}')\n",
        "print(f'Current number of real particles   = {sim.N_real:d}')\n",
        "print(f'Integrator                         : {sim.integrator}')\n",
        "print(f'Simulation units                   : {sim.units}')\n",
        "print(f'Gravity                            : {sim.gravity}')\n",
        "print(f'Softening                          = {sim.softening}')\n",
        "print(f'G constant                         = {sim.G:E}')\n",
        "print(f'Test particle type                 = {sim.testparticle_type}')\n",
        "print(f'Time                               = {sim.t:E}')\n",
        "print(f'Timestep                           = {sim.dt:E}')\n",
        "print(f'Last timestep done                 = {sim.dt_last_done:E}')\n",
        "print(f'Python walltime                    = {sim.walltime:E}')\n",
        "print(f'Simulation status                  : {sim.status}')\n",
        "print(f'Simulation message                 : {sim.messages}')"
      ],
      "metadata": {
        "id": "6R120ftQxQ0E"
      },
      "execution_count": null,
      "outputs": []
    },
    {
      "cell_type": "code",
      "source": [
        "# plot the instantaneous orbits using the built-in REBOUND class OrbitPlot\n",
        "\n",
        "fig = rebound.OrbitPlot(sim, unitlabel=\"[au]\")"
      ],
      "metadata": {
        "id": "JlevuBsU9YLr"
      },
      "execution_count": null,
      "outputs": []
    },
    {
      "cell_type": "markdown",
      "source": [
        "### **PLOT** (Opsional)"
      ],
      "metadata": {
        "id": "ikmKTmIESMVN"
      }
    },
    {
      "cell_type": "code",
      "source": [
        "%matplotlib inline\n",
        "import matplotlib.pyplot as plt\n",
        "\n",
        "from google.colab import drive\n",
        "drive.mount('/content/gdrive', force_remount=True)"
      ],
      "metadata": {
        "id": "Bzc-7OBiJQpO"
      },
      "execution_count": null,
      "outputs": []
    },
    {
      "cell_type": "code",
      "source": [
        "# plot the orbit\n",
        "fig, ax = plt.subplots()\n",
        "ax.scatter(x, y, s = 2)\n",
        "ax.set_title('Orbit') # {sim.dt:E}\n",
        "ax.set_aspect('equal')\n",
        "ax.set_xlabel('x')\n",
        "ax.set_ylabel('y')\n",
        "plt.grid(True)\n",
        "plt.savefig('/content/gdrive/My Drive/Colab Notebooks/rebound/orbit.pdf')\n",
        "plt.show()"
      ],
      "metadata": {
        "id": "UFQWZip8Jdop"
      },
      "execution_count": null,
      "outputs": []
    },
    {
      "cell_type": "code",
      "source": [
        "# plot the energy\n",
        "fig, ax = plt.subplots()\n",
        "ax.scatter(times, np.abs(energy - energy[0]) / np.abs(energy[0]), s = 2)\n",
        "#print(energy)\n",
        "ax.set_title('Energy') # sim.dt\n",
        "ax.set_xlabel('time')\n",
        "ax.set_yscale('log')\n",
        "ax.set_ylabel('energy')\n",
        "plt.grid(True)\n",
        "plt.savefig('/content/gdrive/My Drive/Colab Notebooks/rebound/energy.pdf')\n",
        "plt.show()"
      ],
      "metadata": {
        "id": "Mzxf-A9gKQA1"
      },
      "execution_count": null,
      "outputs": []
    },
    {
      "cell_type": "code",
      "source": [
        "print('Done')"
      ],
      "metadata": {
        "id": "yDmhsj8aR_bH"
      },
      "execution_count": null,
      "outputs": []
    },
    {
      "cell_type": "code",
      "source": [
        "# to free the memory\n",
        "sim = None"
      ],
      "metadata": {
        "id": "ujahSlVWxV1s"
      },
      "execution_count": null,
      "outputs": []
    }
  ]
}