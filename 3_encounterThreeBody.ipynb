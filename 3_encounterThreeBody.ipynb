{
  "nbformat": 4,
  "nbformat_minor": 0,
  "metadata": {
    "colab": {
      "provenance": []
    },
    "kernelspec": {
      "name": "python3",
      "display_name": "Python 3"
    },
    "language_info": {
      "name": "python"
    }
  },
  "cells": [
    {
      "cell_type": "code",
      "execution_count": null,
      "metadata": {
        "id": "NmIpfETsadTM"
      },
      "outputs": [],
      "source": [
        "!pip install -U rebound"
      ]
    },
    {
      "cell_type": "markdown",
      "source": [
        "## **CONTOH MASALAH TIGA BENDA DENGAN CLOSE ENCOUNTER**\n",
        "\n",
        "REBOUND menghitung jarak minimum antar semua benda tiap step waktu. Jika jarak tersebut kurang dari `sim.exit_min_distance`, maka integrasi dihentikan (dengan memanfaatkan fitur blok eksepsi pada `python`). Akan digunakan kriteria radius Hill sebagai kriteria *close encounter*, yaitu $r_{\\rm Hill} \\approx a \\sqrt{\\frac{m}{3M}}$, yaitu kira-kira sebesar 0.15 au pada contoh ini."
      ],
      "metadata": {
        "id": "7Xvt-axQj1tD"
      }
    },
    {
      "cell_type": "code",
      "source": [
        "import rebound\n",
        "import numpy as np"
      ],
      "metadata": {
        "id": "aLnGRgEMakk-"
      },
      "execution_count": null,
      "outputs": []
    },
    {
      "cell_type": "code",
      "source": [
        "def setupSimulation():\n",
        "    sim = rebound.Simulation()\n",
        "\n",
        "    sim.integrator = \"ias15\" # IAS15 adalah integrator baku (default), sehingga baris ini tidak ditulis juga tidak masalah\n",
        "\n",
        "    # yr2pi = year divided by 2pi, with year defined as orbital period of planet at 1AU around 1Msun star --> G = 1\n",
        "    sim.units = ('au', 'msun', 'yr2pi')\n",
        "\n",
        "    sim.add(m = 1)\n",
        "    sim.add(m = 1e-3, a = 1)\n",
        "    sim.add(m = 5e-3, a = 1.25)\n",
        "\n",
        "    sim.N_active = sim.N\n",
        "\n",
        "    sim.move_to_com()\n",
        "    return sim"
      ],
      "metadata": {
        "id": "dDwv0f5EfTEk"
      },
      "execution_count": null,
      "outputs": []
    },
    {
      "cell_type": "code",
      "source": [
        "sim = setupSimulation()\n",
        "\n",
        "# Integrasi 100 kali periode orbit\n",
        "sim.integrate(100 * 2 * np.pi)"
      ],
      "metadata": {
        "id": "GEDEEDeiavt7"
      },
      "execution_count": null,
      "outputs": []
    },
    {
      "cell_type": "code",
      "source": [
        "# explore the final particle orbits\n",
        "\n",
        "for o in sim.calculate_orbits():\n",
        "    print(o)"
      ],
      "metadata": {
        "id": "Oa9Bdql-bN1w"
      },
      "execution_count": null,
      "outputs": []
    },
    {
      "cell_type": "markdown",
      "source": [
        "# The **orbits of both planets changed significantly**. Was there **close encounter(s)?**\n",
        "\n",
        "Redo the simulation.\n",
        "\n",
        "REBOUND calculates the minimum distance between all particle pairs each timestep. If the distance is less than `sim.exit_min_distance`, then the integration is stopped and an exception thrown. Here, we'll use the Hill radius as the criteria for a close encounter. It is given by $r_{\\rm Hill} \\approx a \\sqrt{\\frac{m}{3M}}$, which is approximately 0.15 AU in our case."
      ],
      "metadata": {
        "id": "y1idsRXBbIWk"
      }
    },
    {
      "cell_type": "code",
      "source": [
        "# Resets everything\n",
        "sim = setupSimulation()\n",
        "\n",
        "sim.exit_min_distance = 0.15"
      ],
      "metadata": {
        "id": "PAMioPypevaM"
      },
      "execution_count": null,
      "outputs": []
    },
    {
      "cell_type": "code",
      "source": [
        "Noutputs  = 1000\n",
        "times     = np.linspace(0, 100 * 2 * np.pi, Noutputs)\n",
        "distances = np.zeros(Noutputs)"
      ],
      "metadata": {
        "id": "4Ca-NCbwgy3O"
      },
      "execution_count": null,
      "outputs": []
    },
    {
      "cell_type": "code",
      "source": [
        "# ps is now an array of pointers. It will update as the simulation runs.\n",
        "\n",
        "ps = sim.particles"
      ],
      "metadata": {
        "id": "ZASDEy0LhGWb"
      },
      "execution_count": null,
      "outputs": []
    },
    {
      "cell_type": "code",
      "source": [
        "try:\n",
        "    for i, time in enumerate(times):\n",
        "        sim.integrate(time)\n",
        "\n",
        "        # Calculates the coponentwise difference between particles\n",
        "        dp = ps[1] - ps[2]\n",
        "\n",
        "        distances[i] = np.sqrt(dp.x * dp.x + dp.y * dp.y + dp.z * dp.z)\n",
        "except rebound.Encounter as error:\n",
        "    print(error)"
      ],
      "metadata": {
        "id": "DGIG4HLbhOA-"
      },
      "execution_count": null,
      "outputs": []
    },
    {
      "cell_type": "code",
      "source": [
        "%matplotlib inline\n",
        "import matplotlib.pyplot as plt\n",
        "\n",
        "from google.colab import drive\n",
        "drive.mount('/content/gdrive', force_remount=True)"
      ],
      "metadata": {
        "id": "uUoOAJDdhjw-"
      },
      "execution_count": null,
      "outputs": []
    },
    {
      "cell_type": "code",
      "source": [
        "fig = plt.figure(figsize = (10, 5))\n",
        "ax  = plt.subplot(111)\n",
        "\n",
        "ax.set_xlabel('time [orbits]')\n",
        "ax.set_xlim([0, sim.t/(2 * np.pi)])\n",
        "ax.set_ylabel('distance')\n",
        "\n",
        "plt.plot(times/(2 * np.pi), distances);\n",
        "plt.plot([0.0, 12], [0.2, 0.2]); # Plot our close encounter criteria;\n",
        "\n",
        "plt.savefig('/content/gdrive/My Drive/Colab Notebooks/rebound/encounter.pdf')"
      ],
      "metadata": {
        "id": "jhXixyCdis_E"
      },
      "execution_count": null,
      "outputs": []
    },
    {
      "cell_type": "code",
      "source": [
        "print(f'Current number of particles        = {sim.N:d}')\n",
        "print(f'Current number of active particles = {sim.N_active:d}')\n",
        "print(f'Current number of real particles   = {sim.N_real:d}')\n",
        "print(f'Integrator                         : {sim.integrator}')\n",
        "print(f'Simulation units                   : {sim.units}')\n",
        "print(f'Gravity                            : {sim.gravity}')\n",
        "print(f'Softening                          = {sim.softening}')\n",
        "print(f'G constant                         = {sim.G:E}')\n",
        "print(f'Test particle type                 = {sim.testparticle_type}')\n",
        "print(f'Time                               = {sim.t:E}')\n",
        "print(f'Timestep                           = {sim.dt:E}')\n",
        "print(f'Last timestep done                 = {sim.dt_last_done:E}')\n",
        "print(f'Python walltime                    = {sim.walltime:E}')\n",
        "print(f'Simulation status                  : {sim.status}')\n",
        "print(f'Simulation message                 : {sim.messages}')"
      ],
      "metadata": {
        "id": "wDuhjnn3nkRa"
      },
      "execution_count": null,
      "outputs": []
    },
    {
      "cell_type": "code",
      "source": [
        "sim = None"
      ],
      "metadata": {
        "id": "HFfn0DnVnlZp"
      },
      "execution_count": null,
      "outputs": []
    },
    {
      "cell_type": "markdown",
      "source": [
        "#### Akibat *close encounter*, terjadi *merger* sehingga jumlah partikel (objek) berkurang. Pada blok di atas, jumlah partikel belum berubah karena perhitungan *merger* belum dimasukkan. Untuk selengkapnya, silakan telaah lebih lanjut dengan mengikuti contoh notebook di dokumentasi online REBOUND [di sini](https://rebound.readthedocs.io/en/latest/ipython_examples/CloseEncounters/)."
      ],
      "metadata": {
        "id": "hiZn5uwSiir9"
      }
    }
  ]
}